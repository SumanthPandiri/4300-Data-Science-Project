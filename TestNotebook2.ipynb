{
 "cells": [
  {
   "cell_type": "code",
   "execution_count": 3,
   "metadata": {},
   "outputs": [],
   "source": [
    "import numpy\n",
    "import pandas as pd\n",
    "import numpy as np\n",
    "\n",
    "import random\n",
    "from sklearn import metrics # for the evaluation\n",
    "from sklearn.linear_model import LogisticRegression\n"
   ]
  },
  {
   "cell_type": "code",
   "execution_count": 6,
   "metadata": {},
   "outputs": [],
   "source": [
    "listControl = []\n",
    "listPatient = []\n",
    "\n",
    "#Reads in each of the 8 sheets for the patient and the control datasets\n",
    "for i in range(1,9):\n",
    "    #Imports the patient dataset and drops unneccessary rows/columns\n",
    "    df = pd.read_excel('Data/ALL_PMS_Patient_Biolog_data_NORMALIZED.xlsx', sheet_name='PM-M' + str(i))\n",
    "    df = df[1:]\n",
    "    df.columns = df.iloc[0]\n",
    "    df = df[1:]\n",
    "    df = df.drop('well', axis=1)\n",
    "    dfNames = df['CMS#']\n",
    "    df = df.drop('CMS#', axis=1)\n",
    "\n",
    "    #Imports the control dataset and removed unnecessary rows/columns\n",
    "    df_control = pd.read_excel('Data/ABS_Normalized Control_PMS data.xlsx', sheet_name='PM-M' + str(i) + '_Control')\n",
    "    df_control = df_control[4:]\n",
    "    cols = df_control.columns.tolist()\n",
    "    to_remove = cols[0:59] + cols[109:]\n",
    "    df_control = df_control.loc[:, ~df_control.columns.isin(to_remove)]\n",
    "\n",
    "    #Converts to numpy array and adds the numpy array to a list\n",
    "    arrayControl = df_control.to_numpy()\n",
    "    arrayPatient = df.to_numpy()\n",
    "\n",
    "    #Appends the array to a list\n",
    "    listControl.append(arrayControl)\n",
    "    listPatient.append(arrayPatient)"
   ]
  },
  {
   "cell_type": "code",
   "execution_count": 7,
   "metadata": {},
   "outputs": [
    {
     "name": "stdout",
     "output_type": "stream",
     "text": [
      "(768, 50)\n",
      "(768, 48)\n"
     ]
    }
   ],
   "source": [
    "#Converts the lists to arrays and reshapes the arrays to be 2-dimensional instead of 3-dimensional\n",
    "arrayControl_3D = np.array(listControl)\n",
    "arrayControl = arrayControl_3D.reshape(-1,50)\n",
    "arrayPatient_3D = np.array(listPatient)\n",
    "arrayPatient = arrayPatient_3D.reshape(-1,48)\n",
    "\n",
    "print(arrayControl.shape)\n",
    "print(arrayPatient.shape)"
   ]
  },
  {
   "cell_type": "code",
   "execution_count": 8,
   "metadata": {},
   "outputs": [
    {
     "name": "stdout",
     "output_type": "stream",
     "text": [
      "0.24432858029483007\n",
      "0.2609712967231488\n"
     ]
    }
   ],
   "source": [
    "medianDifference = []\n",
    "meanDifference = []\n",
    "\n",
    "#Calculate difference of the control median and patient median per well and appends value to the list\n",
    "for i in range(0,768):\n",
    "    controlMedian = np.median(arrayControl[i])\n",
    "    patientMedian = np.median(arrayPatient[i])\n",
    "    medianDifference.append(controlMedian-patientMedian)\n",
    "\n",
    "    controlMean = np.mean(arrayControl[i])\n",
    "    patientMean = np.mean(arrayPatient[i])\n",
    "    meanDifference.append(controlMean-patientMean)\n",
    "\n",
    "#Converts the list to a NumPy array\n",
    "Mean = np.array(meanDifference)\n",
    "Median = np.array(medianDifference)\n",
    "print(np.median(abs(Mean)))\n",
    "print(np.median(abs(Median)))"
   ]
  },
  {
   "cell_type": "code",
   "execution_count": 9,
   "metadata": {},
   "outputs": [
    {
     "name": "stdout",
     "output_type": "stream",
     "text": [
      "(98, 452)\n",
      "(98,)\n"
     ]
    }
   ],
   "source": [
    "#In this case, we will use the first 50 columns as the control and the last 48 columns as the patient\n",
    "x_array = np.append(arrayControl, arrayPatient, 1)\n",
    "\n",
    "#Creates a set of values in the median differences array that are between -0.2 and 0.2 and deletes the values from x_array\n",
    "toDrop = np.where(abs(Median) < 0.2)\n",
    "x_array = np.delete(x_array, toDrop, 0)\n",
    "\n",
    "#transposes the x_array\n",
    "x_array_transpose = np.transpose(x_array)\n",
    "print(x_array_transpose.shape)\n",
    "\n",
    "#Creates a corresponding y array where 0 is control and 1 is patient\n",
    "y_array = np.append(np.zeros(50), np.ones(48)) \n",
    "print(y_array.shape)"
   ]
  },
  {
   "cell_type": "code",
   "execution_count": 10,
   "metadata": {},
   "outputs": [
    {
     "name": "stdout",
     "output_type": "stream",
     "text": [
      "0.831111111111111\n"
     ]
    }
   ],
   "source": [
    "listAccuracyScore = []\n",
    "\n",
    "#Runs the logistic regression 100 times and calculates the accuracy score\n",
    "for i in range (0,100):\n",
    "    #Randomly shuffles the x and y data while keeping matching order\n",
    "    temp = list(zip(x_array_transpose, y_array))\n",
    "    random.shuffle(temp)\n",
    "    x_shuffled, y_shuffled = zip(*temp)\n",
    "    x_shuffled = np.array(x_shuffled)\n",
    "    y_shuffled = np.array(y_shuffled)\n",
    "\n",
    "    #Splits data into train and test split\n",
    "    x_train = x_shuffled[0:80]\n",
    "    x_test = x_shuffled[80:99]\n",
    "    y_train = y_shuffled[0:80]\n",
    "    y_test = y_shuffled[80:99]\n",
    "\n",
    "    # Fitting Logistic Regression to the Training set\n",
    "    lr = LogisticRegression(solver=\"lbfgs\", max_iter=10000)\n",
    "    lr.fit(x_train, y_train)\n",
    "\n",
    "    # Predicting the Test set results\n",
    "    y_pred = lr.predict(x_test)\n",
    "    listAccuracyScore.append(metrics.accuracy_score(y_test, y_pred))\n",
    "\n",
    "print(np.mean(listAccuracyScore))"
   ]
  }
 ],
 "metadata": {
  "kernelspec": {
   "display_name": "base",
   "language": "python",
   "name": "python3"
  },
  "language_info": {
   "codemirror_mode": {
    "name": "ipython",
    "version": 3
   },
   "file_extension": ".py",
   "mimetype": "text/x-python",
   "name": "python",
   "nbconvert_exporter": "python",
   "pygments_lexer": "ipython3",
   "version": "3.9.13"
  },
  "orig_nbformat": 4
 },
 "nbformat": 4,
 "nbformat_minor": 2
}
